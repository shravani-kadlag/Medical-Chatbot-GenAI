{
 "cells": [
  {
   "cell_type": "code",
   "execution_count": 72,
   "id": "884b0fdd",
   "metadata": {},
   "outputs": [
    {
     "name": "stdout",
     "output_type": "stream",
     "text": [
      "ok\n"
     ]
    }
   ],
   "source": [
    "print(\"ok\")"
   ]
  },
  {
   "cell_type": "code",
   "execution_count": 73,
   "id": "bc505df5",
   "metadata": {},
   "outputs": [
    {
     "data": {
      "text/plain": [
       "'c:\\\\'"
      ]
     },
     "execution_count": 73,
     "metadata": {},
     "output_type": "execute_result"
    }
   ],
   "source": [
    "%pwd"
   ]
  },
  {
   "cell_type": "code",
   "execution_count": 74,
   "id": "d8c56bf2",
   "metadata": {},
   "outputs": [],
   "source": [
    "import os \n",
    "os.chdir(\"../\")"
   ]
  },
  {
   "cell_type": "code",
   "execution_count": 75,
   "id": "202103d4",
   "metadata": {},
   "outputs": [
    {
     "data": {
      "text/plain": [
       "'c:\\\\'"
      ]
     },
     "execution_count": 75,
     "metadata": {},
     "output_type": "execute_result"
    }
   ],
   "source": [
    "%pwd"
   ]
  },
  {
   "cell_type": "code",
   "execution_count": 76,
   "id": "c08ae46a",
   "metadata": {},
   "outputs": [],
   "source": [
    "from langchain.document_loaders import PyPDFLoader , DirectoryLoader\n",
    "from langchain.text_splitter import RecursiveCharacterTextSplitter"
   ]
  },
  {
   "cell_type": "code",
   "execution_count": 77,
   "id": "a3c67f48",
   "metadata": {},
   "outputs": [],
   "source": [
    "#Extarct Data From the PDF File\n",
    "def load_pdf_file(data):\n",
    "    loader = DirectoryLoader(\n",
    "        data,\n",
    "        glob=\"*.pdf\",\n",
    "        loader_cls=PyPDFLoader\n",
    "    )\n",
    "    \n",
    "    documents = loader.load()\n",
    "    return documents"
   ]
  },
  {
   "cell_type": "code",
   "execution_count": 78,
   "id": "3c690f53",
   "metadata": {},
   "outputs": [],
   "source": [
    "extracted_data = load_pdf_file(data=r\"C:\\Users\\SHANTANU KADLAG\\OneDrive\\Desktop\\medical bot\\Medical-Chatbot-GenAI\\Data\")\n"
   ]
  },
  {
   "cell_type": "code",
   "execution_count": 82,
   "id": "75a700d5",
   "metadata": {},
   "outputs": [],
   "source": [
    "#split the data into text chunks\n",
    "def text_split(extracted_data):\n",
    "    text_splitter=RecursiveCharacterTextSplitter(chunk_size=500, chunk_overlap=20)\n",
    "    text_chunks=text_splitter.split_documents(extracted_data)\n",
    "\n",
    "    return text_chunks"
   ]
  },
  {
   "cell_type": "code",
   "execution_count": 83,
   "id": "20823370",
   "metadata": {},
   "outputs": [
    {
     "name": "stdout",
     "output_type": "stream",
     "text": [
      "Length of Text Chunks 5859\n"
     ]
    }
   ],
   "source": [
    "text_chunks=text_split(extracted_data)\n",
    "print(\"Length of Text Chunks\" , len(text_chunks))"
   ]
  },
  {
   "cell_type": "code",
   "execution_count": 84,
   "id": "e54caf2b",
   "metadata": {},
   "outputs": [],
   "source": [
    "from langchain.embeddings import HuggingFaceEmbeddings"
   ]
  },
  {
   "cell_type": "code",
   "execution_count": 85,
   "id": "75bbfd1c",
   "metadata": {},
   "outputs": [],
   "source": [
    "#Download the Embeddings from Hugging Face\n",
    "def download_hugging_face_embeddings():\n",
    "    embeddings=HuggingFaceEmbeddings(model_name='sentence-transformers/all-MiniLM-L6-v2')\n",
    "    return embeddings"
   ]
  },
  {
   "cell_type": "code",
   "execution_count": 88,
   "id": "8ab3fe88",
   "metadata": {},
   "outputs": [
    {
     "name": "stderr",
     "output_type": "stream",
     "text": [
      "c:\\Users\\SHANTANU KADLAG\\.conda\\envs\\medibot\\lib\\site-packages\\huggingface_hub\\file_download.py:143: UserWarning: `huggingface_hub` cache-system uses symlinks by default to efficiently store duplicated files but your machine does not support them in C:\\Users\\SHANTANU KADLAG\\.cache\\huggingface\\hub\\models--sentence-transformers--all-MiniLM-L6-v2. Caching files will still work but in a degraded version that might require more space on your disk. This warning can be disabled by setting the `HF_HUB_DISABLE_SYMLINKS_WARNING` environment variable. For more details, see https://huggingface.co/docs/huggingface_hub/how-to-cache#limitations.\n",
      "To support symlinks on Windows, you either need to activate Developer Mode or to run Python as an administrator. In order to activate developer mode, see this article: https://docs.microsoft.com/en-us/windows/apps/get-started/enable-your-device-for-development\n",
      "  warnings.warn(message)\n",
      "Xet Storage is enabled for this repo, but the 'hf_xet' package is not installed. Falling back to regular HTTP download. For better performance, install the package with: `pip install huggingface_hub[hf_xet]` or `pip install hf_xet`\n"
     ]
    }
   ],
   "source": [
    "embeddings = download_hugging_face_embeddings()"
   ]
  },
  {
   "cell_type": "code",
   "execution_count": 89,
   "id": "1a5de72d",
   "metadata": {},
   "outputs": [
    {
     "name": "stdout",
     "output_type": "stream",
     "text": [
      "Length 384\n"
     ]
    }
   ],
   "source": [
    "query_result =embeddings.embed_query(\"Hello world\")\n",
    "print(\"Length\" , len(query_result))"
   ]
  },
  {
   "cell_type": "code",
   "execution_count": null,
   "id": "f64ce35f",
   "metadata": {},
   "outputs": [
    {
     "data": {
      "text/plain": [
       "[-0.03447727859020233,\n",
       " 0.031023195013403893,\n",
       " 0.0067350007593631744,\n",
       " 0.02610897831618786,\n",
       " -0.03936203941702843,\n",
       " -0.16030246019363403,\n",
       " 0.06692393869161606,\n",
       " -0.006441489793360233,\n",
       " -0.04745043069124222,\n",
       " 0.014758850447833538,\n",
       " 0.07087530940771103,\n",
       " 0.05552756413817406,\n",
       " 0.019193332642316818,\n",
       " -0.026251299306750298,\n",
       " -0.010109570808708668,\n",
       " -0.026940522715449333,\n",
       " 0.022307388484477997,\n",
       " -0.022226659581065178,\n",
       " -0.1496925801038742,\n",
       " -0.017493056133389473,\n",
       " 0.00767620699480176,\n",
       " 0.05435231328010559,\n",
       " 0.003254441311582923,\n",
       " 0.03172589838504791,\n",
       " -0.08462132513523102,\n",
       " -0.02940601296722889,\n",
       " 0.0515955425798893,\n",
       " 0.048124007880687714,\n",
       " -0.003314810572192073,\n",
       " -0.05827917903661728,\n",
       " 0.04196931794285774,\n",
       " 0.022210605442523956,\n",
       " 0.12818878889083862,\n",
       " -0.022338947281241417,\n",
       " -0.011656264774501324,\n",
       " 0.06292837113142014,\n",
       " -0.03287631645798683,\n",
       " -0.09122605621814728,\n",
       " -0.031175334006547928,\n",
       " 0.052699584513902664,\n",
       " 0.04703482240438461,\n",
       " -0.0842030793428421,\n",
       " -0.030056186020374298,\n",
       " -0.020744839683175087,\n",
       " 0.009517842903733253,\n",
       " -0.0037218458019196987,\n",
       " 0.007343307137489319,\n",
       " 0.03932436555624008,\n",
       " 0.0932740718126297,\n",
       " -0.0037886016070842743,\n",
       " -0.052742063999176025,\n",
       " -0.058058205991983414,\n",
       " -0.0068643661215901375,\n",
       " 0.005283276084810495,\n",
       " 0.0828929916024208,\n",
       " 0.01936279982328415,\n",
       " 0.00628449534997344,\n",
       " -0.01033071894198656,\n",
       " 0.009032391011714935,\n",
       " -0.037683695554733276,\n",
       " -0.04520602896809578,\n",
       " 0.024016322568058968,\n",
       " -0.006944161839783192,\n",
       " 0.01349164079874754,\n",
       " 0.10005493462085724,\n",
       " -0.07168395817279816,\n",
       " -0.02169514261186123,\n",
       " 0.031618449836969376,\n",
       " -0.05163465440273285,\n",
       " -0.08224768936634064,\n",
       " -0.06569328159093857,\n",
       " -0.009895364753901958,\n",
       " 0.0058164168149232864,\n",
       " 0.07355453819036484,\n",
       " -0.034050315618515015,\n",
       " 0.02488609403371811,\n",
       " 0.014488139189779758,\n",
       " 0.026457395404577255,\n",
       " 0.00965672917664051,\n",
       " 0.03021724708378315,\n",
       " 0.052803948521614075,\n",
       " -0.07535989582538605,\n",
       " 0.009897196665406227,\n",
       " 0.029836809262633324,\n",
       " 0.01755565032362938,\n",
       " 0.023091943934559822,\n",
       " 0.0019338717684149742,\n",
       " 0.0014001894742250443,\n",
       " -0.04717593267560005,\n",
       " -0.011194330640137196,\n",
       " -0.11420140415430069,\n",
       " -0.019811946898698807,\n",
       " 0.0402662418782711,\n",
       " 0.002192963380366564,\n",
       " -0.07979224622249603,\n",
       " -0.025382302701473236,\n",
       " 0.09448298811912537,\n",
       " -0.028981076553463936,\n",
       " -0.1450026035308838,\n",
       " 0.23097744584083557,\n",
       " 0.027731148526072502,\n",
       " 0.032111503183841705,\n",
       " 0.031065041199326515,\n",
       " 0.042832810431718826,\n",
       " 0.06423773616552353,\n",
       " 0.03216316178441048,\n",
       " -0.004876782186329365,\n",
       " 0.05569944158196449,\n",
       " -0.03753238543868065,\n",
       " -0.02150549180805683,\n",
       " -0.02834264002740383,\n",
       " -0.028846895322203636,\n",
       " 0.03835306689143181,\n",
       " -0.017468618229031563,\n",
       " 0.052485328167676926,\n",
       " -0.07487602531909943,\n",
       " -0.031259745359420776,\n",
       " 0.021841585636138916,\n",
       " -0.03989573195576668,\n",
       " -0.008587098680436611,\n",
       " 0.026956548914313316,\n",
       " -0.04849553108215332,\n",
       " 0.011469858698546886,\n",
       " 0.02961823344230652,\n",
       " -0.020572161301970482,\n",
       " 0.013103851117193699,\n",
       " 0.02883346751332283,\n",
       " -3.194199819506188e-33,\n",
       " 0.06478208303451538,\n",
       " -0.018130233511328697,\n",
       " 0.05178995802998543,\n",
       " 0.12198270857334137,\n",
       " 0.028780125081539154,\n",
       " 0.008721953257918358,\n",
       " -0.07052117586135864,\n",
       " -0.016907276585698128,\n",
       " 0.040739696472883224,\n",
       " 0.0421161912381649,\n",
       " 0.025447219610214233,\n",
       " 0.03574623540043831,\n",
       " -0.04914480820298195,\n",
       " 0.002129069995135069,\n",
       " -0.015546540729701519,\n",
       " 0.05073061212897301,\n",
       " -0.0481853149831295,\n",
       " 0.03588062524795532,\n",
       " -0.004067050293087959,\n",
       " 0.10172471404075623,\n",
       " -0.055970001965761185,\n",
       " -0.010681054554879665,\n",
       " 0.011235776357352734,\n",
       " 0.09068655967712402,\n",
       " 0.004234483931213617,\n",
       " 0.03513865917921066,\n",
       " -0.009702853858470917,\n",
       " -0.09386517852544785,\n",
       " 0.0928555428981781,\n",
       " 0.008004956878721714,\n",
       " -0.007705432828515768,\n",
       " -0.05208674445748329,\n",
       " -0.01258798222988844,\n",
       " 0.003266932675614953,\n",
       " 0.006013541016727686,\n",
       " 0.007581572514027357,\n",
       " 0.010517138056457043,\n",
       " -0.08634554594755173,\n",
       " -0.06987877190113068,\n",
       " -0.002533965278416872,\n",
       " -0.09097656607627869,\n",
       " 0.04688730463385582,\n",
       " 0.052076514810323715,\n",
       " 0.007193834520876408,\n",
       " 0.010903686285018921,\n",
       " -0.005229517351835966,\n",
       " 0.013937318697571754,\n",
       " 0.021968355402350426,\n",
       " 0.03420857712626457,\n",
       " 0.060224682092666626,\n",
       " 0.00011670673848129809,\n",
       " 0.0147319957613945,\n",
       " -0.07008929550647736,\n",
       " 0.02849906124174595,\n",
       " -0.02760162204504013,\n",
       " 0.010768426582217216,\n",
       " 0.034830935299396515,\n",
       " -0.02248784527182579,\n",
       " 0.00976906530559063,\n",
       " 0.07722777873277664,\n",
       " 0.02158840000629425,\n",
       " 0.11495620757341385,\n",
       " -0.0680011659860611,\n",
       " 0.023761052638292313,\n",
       " -0.0159839428961277,\n",
       " -0.017826968804001808,\n",
       " 0.06439490616321564,\n",
       " 0.03202574700117111,\n",
       " 0.050270289182662964,\n",
       " -0.00591370090842247,\n",
       " -0.033708006143569946,\n",
       " 0.01784026436507702,\n",
       " 0.016573334112763405,\n",
       " 0.06329652667045593,\n",
       " 0.03467720374464989,\n",
       " 0.04647340252995491,\n",
       " 0.09790612757205963,\n",
       " -0.006635523401200771,\n",
       " 0.025207122787833214,\n",
       " -0.07798831164836884,\n",
       " 0.01692642644047737,\n",
       " -0.0009458051645196974,\n",
       " 0.022471899166703224,\n",
       " -0.03825320675969124,\n",
       " 0.09570478647947311,\n",
       " -0.005350811406970024,\n",
       " 0.010469130240380764,\n",
       " -0.11524051427841187,\n",
       " -0.013262511231005192,\n",
       " -0.01070948876440525,\n",
       " -0.0831172838807106,\n",
       " 0.07327359169721603,\n",
       " 0.04939224198460579,\n",
       " -0.00899436790496111,\n",
       " -0.09584558010101318,\n",
       " 3.3661496637765335e-33,\n",
       " 0.12493180483579636,\n",
       " 0.019349727779626846,\n",
       " -0.05822576582431793,\n",
       " -0.0359882190823555,\n",
       " -0.050746794790029526,\n",
       " -0.04566240310668945,\n",
       " -0.0826033279299736,\n",
       " 0.1481948345899582,\n",
       " -0.08842115849256516,\n",
       " 0.0602744035422802,\n",
       " 0.051030147820711136,\n",
       " 0.010303161107003689,\n",
       " 0.14121423661708832,\n",
       " 0.03081386908888817,\n",
       " 0.061033107340335846,\n",
       " -0.052851222455501556,\n",
       " 0.13664893805980682,\n",
       " 0.009189913049340248,\n",
       " -0.01732524298131466,\n",
       " -0.012848681770265102,\n",
       " -0.007995298132300377,\n",
       " -0.050980038940906525,\n",
       " -0.05235063657164574,\n",
       " 0.007593035697937012,\n",
       " -0.015166332013905048,\n",
       " 0.01696031540632248,\n",
       " 0.021270543336868286,\n",
       " 0.02055801823735237,\n",
       " -0.12002810835838318,\n",
       " 0.01446179486811161,\n",
       " 0.02675991877913475,\n",
       " 0.02533069998025894,\n",
       " -0.042754653841257095,\n",
       " 0.006768454797565937,\n",
       " -0.014458565041422844,\n",
       " 0.04526202380657196,\n",
       " -0.09147650003433228,\n",
       " -0.019439103081822395,\n",
       " -0.017833510413765907,\n",
       " -0.05491011589765549,\n",
       " -0.05264107510447502,\n",
       " -0.01045909058302641,\n",
       " -0.05201606824994087,\n",
       " 0.020891984924674034,\n",
       " -0.07997031509876251,\n",
       " -0.012111318297684193,\n",
       " -0.05773138627409935,\n",
       " 0.023178258910775185,\n",
       " -0.008031727746129036,\n",
       " -0.025989310815930367,\n",
       " -0.07995673269033432,\n",
       " -0.020728876814246178,\n",
       " 0.048817701637744904,\n",
       " -0.02038918063044548,\n",
       " -0.04917660728096962,\n",
       " 0.014159666374325752,\n",
       " -0.06362208724021912,\n",
       " -0.007807414513081312,\n",
       " 0.016431523486971855,\n",
       " -0.02568252757191658,\n",
       " 0.01338119339197874,\n",
       " 0.026248816400766373,\n",
       " 0.00997838657349348,\n",
       " 0.06322891265153885,\n",
       " 0.0026721819303929806,\n",
       " -0.006582723930478096,\n",
       " 0.016631903126835823,\n",
       " 0.03236641362309456,\n",
       " 0.03794247284531593,\n",
       " -0.03637607395648956,\n",
       " -0.006910870783030987,\n",
       " 0.00015973052359186113,\n",
       " -0.0016335236141458154,\n",
       " -0.027278190478682518,\n",
       " -0.028038104996085167,\n",
       " 0.04968145489692688,\n",
       " -0.028867211192846298,\n",
       " -0.0024179802276194096,\n",
       " 0.014774898067116737,\n",
       " 0.00976458378136158,\n",
       " 0.005797632969915867,\n",
       " 0.013486168347299099,\n",
       " 0.0055678836070001125,\n",
       " 0.0372270792722702,\n",
       " 0.0072325291112065315,\n",
       " 0.040156178176403046,\n",
       " 0.08150330930948257,\n",
       " 0.07199162989854813,\n",
       " -0.013056146912276745,\n",
       " -0.04288206994533539,\n",
       " -0.011011242866516113,\n",
       " 0.004897794686257839,\n",
       " -0.009229745715856552,\n",
       " 0.035191502422094345,\n",
       " -0.05103505030274391,\n",
       " -1.571437557856825e-08,\n",
       " -0.08862437307834625,\n",
       " 0.023909324780106544,\n",
       " -0.016238702461123466,\n",
       " 0.03170046955347061,\n",
       " 0.027284231036901474,\n",
       " 0.05246885493397713,\n",
       " -0.047070953994989395,\n",
       " -0.05884741619229317,\n",
       " -0.0632082000374794,\n",
       " 0.040888555347919464,\n",
       " 0.049828026443719864,\n",
       " 0.10655169188976288,\n",
       " -0.0745023563504219,\n",
       " -0.012495414353907108,\n",
       " 0.01837071031332016,\n",
       " 0.03947410359978676,\n",
       " -0.02479788102209568,\n",
       " 0.01451626792550087,\n",
       " -0.03706921637058258,\n",
       " 0.020015697926282883,\n",
       " -4.857365638599731e-05,\n",
       " 0.009866541251540184,\n",
       " 0.02483879029750824,\n",
       " -0.05245817080140114,\n",
       " 0.029314158484339714,\n",
       " -0.08719190210103989,\n",
       " -0.014499804005026817,\n",
       " 0.026019113138318062,\n",
       " -0.01874629780650139,\n",
       " -0.07620517164468765,\n",
       " 0.03504331782460213,\n",
       " 0.10363949090242386,\n",
       " -0.028050526976585388,\n",
       " 0.012718189507722855,\n",
       " -0.07632551342248917,\n",
       " -0.018652359023690224,\n",
       " 0.024976713582873344,\n",
       " 0.08144530653953552,\n",
       " 0.06875885277986526,\n",
       " -0.0640566349029541,\n",
       " -0.08389381319284439,\n",
       " 0.06136239692568779,\n",
       " -0.033545564860105515,\n",
       " -0.10615334659814835,\n",
       " -0.040080562233924866,\n",
       " 0.03253018856048584,\n",
       " 0.07662485539913177,\n",
       " -0.07301626354455948,\n",
       " 0.0003375968663021922,\n",
       " -0.040871623903512955,\n",
       " -0.0757884755730629,\n",
       " 0.027527621015906334,\n",
       " 0.07462543994188309,\n",
       " 0.01771729066967964,\n",
       " 0.0912184864282608,\n",
       " 0.11022017151117325,\n",
       " 0.0005698121385648847,\n",
       " 0.05146332457661629,\n",
       " -0.014551322907209396,\n",
       " 0.033232010900974274,\n",
       " 0.023792298510670662,\n",
       " -0.02288983389735222,\n",
       " 0.038937509059906006,\n",
       " 0.030206825584173203]"
      ]
     },
     "execution_count": 90,
     "metadata": {},
     "output_type": "execute_result"
    }
   ],
   "source": [
    "#query_result"
   ]
  },
  {
   "cell_type": "code",
   "execution_count": 91,
   "id": "c7d140dc",
   "metadata": {},
   "outputs": [
    {
     "name": "stdout",
     "output_type": "stream",
     "text": [
      "Requirement already satisfied: pinecone in c:\\users\\shantanu kadlag\\.conda\\envs\\medibot\\lib\\site-packages (7.3.0)\n",
      "Requirement already satisfied: certifi>=2019.11.17 in c:\\users\\shantanu kadlag\\.conda\\envs\\medibot\\lib\\site-packages (from pinecone) (2025.8.3)\n",
      "Requirement already satisfied: pinecone-plugin-assistant<2.0.0,>=1.6.0 in c:\\users\\shantanu kadlag\\.conda\\envs\\medibot\\lib\\site-packages (from pinecone) (1.7.0)\n",
      "Requirement already satisfied: pinecone-plugin-interface<0.0.8,>=0.0.7 in c:\\users\\shantanu kadlag\\.conda\\envs\\medibot\\lib\\site-packages (from pinecone) (0.0.7)\n",
      "Requirement already satisfied: python-dateutil>=2.5.3 in c:\\users\\shantanu kadlag\\.conda\\envs\\medibot\\lib\\site-packages (from pinecone) (2.9.0.post0)\n",
      "Requirement already satisfied: typing-extensions>=3.7.4 in c:\\users\\shantanu kadlag\\.conda\\envs\\medibot\\lib\\site-packages (from pinecone) (4.14.1)\n",
      "Requirement already satisfied: urllib3>=1.26.0 in c:\\users\\shantanu kadlag\\.conda\\envs\\medibot\\lib\\site-packages (from pinecone) (2.5.0)\n",
      "Requirement already satisfied: packaging<25.0,>=24.2 in c:\\users\\shantanu kadlag\\.conda\\envs\\medibot\\lib\\site-packages (from pinecone-plugin-assistant<2.0.0,>=1.6.0->pinecone) (24.2)\n",
      "Requirement already satisfied: requests<3.0.0,>=2.32.3 in c:\\users\\shantanu kadlag\\.conda\\envs\\medibot\\lib\\site-packages (from pinecone-plugin-assistant<2.0.0,>=1.6.0->pinecone) (2.32.4)\n",
      "Requirement already satisfied: charset_normalizer<4,>=2 in c:\\users\\shantanu kadlag\\.conda\\envs\\medibot\\lib\\site-packages (from requests<3.0.0,>=2.32.3->pinecone-plugin-assistant<2.0.0,>=1.6.0->pinecone) (3.4.2)\n",
      "Requirement already satisfied: idna<4,>=2.5 in c:\\users\\shantanu kadlag\\.conda\\envs\\medibot\\lib\\site-packages (from requests<3.0.0,>=2.32.3->pinecone-plugin-assistant<2.0.0,>=1.6.0->pinecone) (3.10)\n",
      "Requirement already satisfied: six>=1.5 in c:\\users\\shantanu kadlag\\.conda\\envs\\medibot\\lib\\site-packages (from python-dateutil>=2.5.3->pinecone) (1.17.0)\n",
      "Note: you may need to restart the kernel to use updated packages.\n"
     ]
    }
   ],
   "source": [
    "pip install pinecone\n"
   ]
  },
  {
   "cell_type": "code",
   "execution_count": null,
   "id": "a5e2c9d7",
   "metadata": {},
   "outputs": [
    {
     "data": {
      "text/plain": [
       "True"
      ]
     },
     "execution_count": 121,
     "metadata": {},
     "output_type": "execute_result"
    }
   ],
   "source": [
    "from dotenv import load_dotenv\n",
    "\n",
    "load_dotenv(\"C:\\\\Users\\\\SHANTANU KADLAG\\\\OneDrive\\\\Desktop\\\\medical bot\\\\Medical-Chatbot-GenAI\\\\.env\")\n"
   ]
  },
  {
   "cell_type": "code",
   "execution_count": 122,
   "id": "29a19419",
   "metadata": {},
   "outputs": [],
   "source": [
    "PINECONE_API_KEY=os.environ.get('PINECONE_API_KEY')\n",
    "OPENAI_API_KEY=os.environ.get('OPENAI_API_KEY')"
   ]
  },
  {
   "cell_type": "code",
   "execution_count": 154,
   "id": "a0158686",
   "metadata": {},
   "outputs": [
    {
     "data": {
      "text/plain": [
       "{\n",
       "    \"name\": \"medicalbot\",\n",
       "    \"metric\": \"cosine\",\n",
       "    \"host\": \"medicalbot-qwgft4i.svc.aped-4627-b74a.pinecone.io\",\n",
       "    \"spec\": {\n",
       "        \"serverless\": {\n",
       "            \"cloud\": \"aws\",\n",
       "            \"region\": \"us-east-1\"\n",
       "        }\n",
       "    },\n",
       "    \"status\": {\n",
       "        \"ready\": true,\n",
       "        \"state\": \"Ready\"\n",
       "    },\n",
       "    \"vector_type\": \"dense\",\n",
       "    \"dimension\": 384,\n",
       "    \"deletion_protection\": \"disabled\",\n",
       "    \"tags\": null\n",
       "}"
      ]
     },
     "execution_count": 154,
     "metadata": {},
     "output_type": "execute_result"
    }
   ],
   "source": [
    "from pinecone.grpc import PineconeGRPC as PineconeGRPC\n",
    "from pinecone import ServerlessSpec\n",
    "import os\n",
    "\n",
    "pc = Pinecone(api_key= PINECONE_API_KEY)\n",
    "\n",
    "index_name = \"medicalbot\"\n",
    "\n",
    "pc.create_index(\n",
    "    name=index_name,\n",
    "    dimension=384,\n",
    "    metric=\"cosine\",\n",
    "    spec=ServerlessSpec(\n",
    "        cloud=\"aws\",\n",
    "        region=\"us-east-1\"\n",
    "    )\n",
    ")"
   ]
  },
  {
   "cell_type": "code",
   "execution_count": 123,
   "id": "52f2ed07",
   "metadata": {},
   "outputs": [],
   "source": [
    "import os \n",
    "os.environ[\"PINECONE_API_KEY\"]= PINECONE_API_KEY\n",
    "os.environ[\"OPENAI_API_KEY\"]= OPENAI_API_KEY"
   ]
  },
  {
   "cell_type": "code",
   "execution_count": 112,
   "id": "cccc3a3f",
   "metadata": {},
   "outputs": [],
   "source": [
    "#Embed each chunk and upset the embeddings into your Pinecone index.\n",
    "from langchain_pinecone import PineconeVectorStore\n",
    "\n",
    "docsearch = PineconeVectorStore.from_documents(\n",
    "    documents=text_chunks,\n",
    "    index_name=index_name,\n",
    "    embedding=embeddings,\n",
    ")"
   ]
  },
  {
   "cell_type": "code",
   "execution_count": 138,
   "id": "b6103c6b",
   "metadata": {},
   "outputs": [],
   "source": [
    "# Load Existing index\n",
    "\n",
    "from langchain_pinecone import PineconeVectorStore\n",
    "# Embed each chunk upset the embeddings into your Pinecone index.\n",
    "docsearch = PineconeVectorStore.from_existing_index(\n",
    "    index_name=index_name,\n",
    "    embedding=embeddings\n",
    ")"
   ]
  },
  {
   "cell_type": "code",
   "execution_count": 139,
   "id": "750a5901",
   "metadata": {},
   "outputs": [
    {
     "data": {
      "text/plain": [
       "<langchain_pinecone.vectorstores.PineconeVectorStore at 0x1af254bdcf0>"
      ]
     },
     "execution_count": 139,
     "metadata": {},
     "output_type": "execute_result"
    }
   ],
   "source": [
    "docsearch"
   ]
  },
  {
   "cell_type": "code",
   "execution_count": 140,
   "id": "5410cdec",
   "metadata": {},
   "outputs": [],
   "source": [
    "retriever =docsearch.as_retriever(search_type=\"similarity\", search_kwargs={\"k\":3})"
   ]
  },
  {
   "cell_type": "code",
   "execution_count": 141,
   "id": "a9c432f2",
   "metadata": {},
   "outputs": [],
   "source": [
    "retrieved_docs=retriever.invoke(\"What is Acne ?\")"
   ]
  },
  {
   "cell_type": "code",
   "execution_count": 142,
   "id": "b91421c8",
   "metadata": {},
   "outputs": [
    {
     "data": {
      "text/plain": [
       "[Document(id='3628dd0f-0bbb-4288-8067-a42a9111ccb6', metadata={'creationdate': '2004-12-18T17:00:02-05:00', 'creator': 'PyPDF', 'moddate': '2004-12-18T16:15:31-06:00', 'page': 39.0, 'page_label': '40', 'producer': 'PDFlib+PDI 5.0.0 (SunOS)', 'source': 'C:\\\\Users\\\\SHANTANU KADLAG\\\\OneDrive\\\\Desktop\\\\medical bot\\\\Medical-Chatbot-GenAI\\\\Data\\\\Gale Encyclopedia of Medicine Vol. 1 (A-B).pdf', 'total_pages': 637.0}, page_content='GALE ENCYCLOPEDIA OF MEDICINE 226\\nAcne\\nGEM - 0001 to 0432 - A  10/22/03 1:41 PM  Page 26'),\n",
       " Document(id='285ad14e-60fb-451a-92b6-8e1cea12bd78', metadata={'creationdate': '2004-12-18T17:00:02-05:00', 'creator': 'PyPDF', 'moddate': '2004-12-18T16:15:31-06:00', 'page': 38.0, 'page_label': '39', 'producer': 'PDFlib+PDI 5.0.0 (SunOS)', 'source': 'C:\\\\Users\\\\SHANTANU KADLAG\\\\OneDrive\\\\Desktop\\\\medical bot\\\\Medical-Chatbot-GenAI\\\\Data\\\\Gale Encyclopedia of Medicine Vol. 1 (A-B).pdf', 'total_pages': 637.0}, page_content='GALE ENCYCLOPEDIA OF MEDICINE 2 25\\nAcne\\nAcne vulgaris affecting a woman’s face. Acne is the general\\nname given to a skin disorder in which the sebaceous\\nglands become inflamed. (Photograph by Biophoto Associ-\\nates, Photo Researchers, Inc. Reproduced by permission.)\\nGEM - 0001 to 0432 - A  10/22/03 1:41 PM  Page 25'),\n",
       " Document(id='f7400a41-5655-4687-9aaa-02c872a94791', metadata={'creationdate': '2004-12-18T17:00:02-05:00', 'creator': 'PyPDF', 'moddate': '2004-12-18T16:15:31-06:00', 'page': 37.0, 'page_label': '38', 'producer': 'PDFlib+PDI 5.0.0 (SunOS)', 'source': 'C:\\\\Users\\\\SHANTANU KADLAG\\\\OneDrive\\\\Desktop\\\\medical bot\\\\Medical-Chatbot-GenAI\\\\Data\\\\Gale Encyclopedia of Medicine Vol. 1 (A-B).pdf', 'total_pages': 637.0}, page_content='Acidosis see Respiratory acidosis; Renal\\ntubular acidosis; Metabolic acidosis\\nAcne\\nDefinition\\nAcne is a common skin disease characterized by\\npimples on the face, chest, and back. It occurs when the\\npores of the skin become clogged with oil, dead skin\\ncells, and bacteria.\\nDescription\\nAcne vulgaris, the medical term for common acne, is\\nthe most common skin disease. It affects nearly 17 million\\npeople in the United States. While acne can arise at any')]"
      ]
     },
     "execution_count": 142,
     "metadata": {},
     "output_type": "execute_result"
    }
   ],
   "source": [
    "retrieved_docs"
   ]
  },
  {
   "cell_type": "code",
   "execution_count": 156,
   "id": "94f2c418",
   "metadata": {},
   "outputs": [],
   "source": [
    "from langchain_openai import OpenAI\n",
    "llm = Ollama(model=\"llama3\", temperature=0.4, num_ctx=500)\n"
   ]
  },
  {
   "cell_type": "code",
   "execution_count": 149,
   "id": "fb776bbf",
   "metadata": {},
   "outputs": [],
   "source": [
    "from langchain.chains import create_retrieval_chain\n",
    "from langchain.chains.combine_documents import create_stuff_documents_chain\n",
    "from langchain_core.prompts import ChatPromptTemplate\n",
    "\n",
    "system_prompt=(\n",
    "    \"You are en assistant for question-answering tasks. \"\n",
    "    \"Use the following pieces of retrieved context to answer \"\n",
    "    \"the question. If you don't know the answer ,say that you \"\n",
    "    \"don't know . Use three sentences maximum and keep the \"\n",
    "    \"answer concise.\"\n",
    "    \"\\n\\n\"\n",
    "    \"{context}\"\n",
    ")\n",
    "\n",
    "prompt = ChatPromptTemplate.from_messages(\n",
    "    [\n",
    "        (\"system\", system_prompt),\n",
    "        (\"human\", \"{input}\"),\n",
    "    ]\n",
    ")"
   ]
  },
  {
   "cell_type": "code",
   "execution_count": 150,
   "id": "09450194",
   "metadata": {},
   "outputs": [],
   "source": [
    "question_answer_chain=create_stuff_documents_chain(llm,prompt)\n",
    "rag_chain = create_retrieval_chain(retriever, question_answer_chain)"
   ]
  },
  {
   "cell_type": "code",
   "execution_count": 153,
   "id": "efe0273a",
   "metadata": {},
   "outputs": [
    {
     "name": "stdout",
     "output_type": "stream",
     "text": [
      "According to the GALE ENCYCLOPEDIA OF MEDICINE, Acne is a common skin disease characterized by pimples on the face, chest, and back. It occurs when the pores of the skin become clogged with oil, dead skin cells, and bacteria. Acne vulgaris, also known as common acne, is the most common skin disease affecting nearly 17 million people in the United States.\n"
     ]
    }
   ],
   "source": [
    "response = rag_chain.invoke({\"input\": \"What is Acne?\"})\n",
    "print(response[\"answer\"])"
   ]
  },
  {
   "cell_type": "code",
   "execution_count": null,
   "id": "c8789841",
   "metadata": {},
   "outputs": [],
   "source": []
  }
 ],
 "metadata": {
  "kernelspec": {
   "display_name": "medibot",
   "language": "python",
   "name": "python3"
  },
  "language_info": {
   "codemirror_mode": {
    "name": "ipython",
    "version": 3
   },
   "file_extension": ".py",
   "mimetype": "text/x-python",
   "name": "python",
   "nbconvert_exporter": "python",
   "pygments_lexer": "ipython3",
   "version": "3.10.18"
  }
 },
 "nbformat": 4,
 "nbformat_minor": 5
}
